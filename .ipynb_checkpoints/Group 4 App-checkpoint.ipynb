{
 "cells": [
  {
   "cell_type": "code",
   "execution_count": 1,
   "metadata": {},
   "outputs": [
    {
     "name": "stderr",
     "output_type": "stream",
     "text": [
      "Using TensorFlow backend.\n"
     ]
    }
   ],
   "source": [
    "import keras\n",
    "from IPython.display import display\n",
    "import ipywidgets as widgets\n",
    "from keras import optimizers\n",
    "from sklearn.utils import shuffle\n",
    "from keras.datasets import mnist\n",
    "from keras.models import Sequential\n",
    "from keras.layers import Dense, Dropout, Flatten, Activation\n",
    "from keras.layers import Conv2D, MaxPooling2D\n",
    "from keras.utils import to_categorical\n",
    "import numpy as np\n",
    "%matplotlib inline\n",
    "import matplotlib.pyplot as plt\n",
    "import h5py\n",
    "import random\n",
    "np.random.seed(1)\n",
    "from keras.models import Sequential\n",
    "from keras.layers import Dense\n",
    "from keras.models import model_from_json\n",
    "import h5py\n",
    "import numpy as np\n",
    "import os\n",
    "json_file = open('model.json', 'r')\n",
    "loaded_model_json = json_file.read()\n",
    "json_file.close()\n",
    "loaded_model = model_from_json(loaded_model_json)\n",
    "# load weights into new model\n",
    "loaded_model.load_weights(\"model.h5\")\n",
    "#function for printing predictions  \n",
    "# evaluate loaded model on test data\n",
    "loaded_model.compile(loss='categorical_crossentropy', optimizer='adam', metrics=['accuracy'])\n",
    "#done loading the model\n",
    "#utility function for printing CNN's answer\n",
    "def prediction(pred):\n",
    "    if(pred == 0):\n",
    "        return \"MCF-10A\"\n",
    "    elif(pred == 1):\n",
    "        return \"MCF-7\"\n",
    "    else:\n",
    "        return \"MDA-MB-231\"\n",
    "#load input and random shuffle\n",
    "h5f = h5py.File('g4data.h5','r')\n",
    "# the data, split between train and test sets\n",
    "X = np.array(h5f['x_data_images'])\n",
    "X = X.reshape(-1, 64, 64, 1)\n",
    "y = np.array(h5f['y_data_images'])\n",
    "h5f.close()\n",
    "#get the original images\n",
    "#load input and random shuffle\n",
    "h5f = h5py.File('group4data.h5','r')\n",
    "X2 = np.array(h5f['x_data_images'])\n",
    "X2 = X2.reshape(-1, 800, 800, 1)\n",
    "y2 = np.array(h5f['y_data_images'])\n",
    "h5f.close()\n",
    "\n",
    "# for i in range(len(X)):\n",
    "#      print(i)\n",
    "#      plt.imshow(X[i].reshape(64, 64), interpolation = 'nearest')\n",
    "#      plt.show()\n",
    "#      plt.close()\n",
    "#      plt.imshow(X2[i].reshape(800, 800), interpolation = 'nearest')\n",
    "#      plt.show()\n",
    "#      plt.close()"
   ]
  },
  {
   "cell_type": "code",
   "execution_count": 2,
   "metadata": {},
   "outputs": [],
   "source": [
    "#create GUI environment\n",
    "# widgets.IntSlider(\n",
    "#     value=7,\n",
    "#     min=0,\n",
    "#     max=10,\n",
    "#     step=1,\n",
    "#     description='Test:',\n",
    "#     disabled=False,\n",
    "#     continuous_update=False,\n",
    "#     orientation='horizontal',\n",
    "#     readout=True,\n",
    "#     readout_format='d'\n",
    "# )\n",
    "\n",
    "\n",
    "# widgets.IntText(\n",
    "#     value=7,\n",
    "#     description='Any:',\n",
    "#     disabled=False\n",
    "# )\n",
    "\n",
    "#LINKING TWO SIMILAR WIDGETS\n",
    "# a = widgets.FloatText()\n",
    "# b = widgets.FloatSlider()\n",
    "# display(a,b)\n",
    "\n",
    "# mylink = widgets.jslink((a, 'value'), (b, 'value'))\n",
    "\n",
    "intText = widgets.IntText(value = 0, \n",
    "                         description = \"Image Index\")\n",
    "intSlider = widgets.IntSlider(value = 0, \n",
    "                              min = 0, \n",
    "                              max = X.shape[0] - 1, \n",
    "                              step =1, \n",
    "                              description = \"Image Index\" , \n",
    "                              disabled = False, \n",
    "                              continuous_update = True)\n",
    "ImageLink = widgets.jslink((intText, 'value'), (intSlider, 'value'))"
   ]
  },
  {
   "cell_type": "code",
   "execution_count": 3,
   "metadata": {},
   "outputs": [
    {
     "data": {
      "application/vnd.jupyter.widget-view+json": {
       "model_id": "e7cf8f8cc68841978a464f1a8a208946",
       "version_major": 2,
       "version_minor": 0
      },
      "text/plain": [
       "Label(value='')"
      ]
     },
     "metadata": {},
     "output_type": "display_data"
    },
    {
     "data": {
      "application/vnd.jupyter.widget-view+json": {
       "model_id": "79c727adccc244edb7dde389527918fc",
       "version_major": 2,
       "version_minor": 0
      },
      "text/plain": [
       "IntSlider(value=0, description='Image Index', max=551)"
      ]
     },
     "metadata": {},
     "output_type": "display_data"
    }
   ],
   "source": [
    "#create interactable user interface\n",
    "caption = widgets.Label(value='')\n",
    "def handle_slider_change(change):\n",
    "    plt.clf()\n",
    "    caption.value = 'The Image Index is ' + str(intSlider.value)\n",
    "    print(\"\")\n",
    "    i = intSlider.value\n",
    "#     file = open(\"images/WidgetArch.png\", \"rb\")\n",
    "#     image = file.read()\n",
    "#     widgets.Image(\n",
    "#     value=image,\n",
    "#     format='png',\n",
    "#     width=300,\n",
    "#     height=400,\n",
    "    print(\"Image Index: \", str(intSlider.value))\n",
    "    pred = loaded_model.predict(X[i].reshape(-1, 64, 64, 1))\n",
    "    (a, b) = max((pred[0][0], 0), (pred[0][1], 1), (pred[0][2], 2))\n",
    "    print(\"CNN's prediction: \", prediction(b))\n",
    "    (x, ans) = max((y[i][0], 0), (y[i][1], 1), (y[i][2], 2))\n",
    "    print(\"Actual Answer: \", prediction(ans))\n",
    "    print(\"Scaled-Down Image: \")\n",
    "    plt.imshow(X[i].reshape(64, 64), interpolation = 'nearest')\n",
    "    plt.show()\n",
    "    plt.clf()\n",
    "    plt.cla()\n",
    "    plt.close()\n",
    "    print(\"Original Image: \")\n",
    "    plt.imshow(X2[i].reshape(800, 800), interpolation = 'nearest')\n",
    "    plt.show()\n",
    "    plt.clf()\n",
    "    plt.cla()\n",
    "    plt.close()\n",
    "    \n",
    "intSlider.observe(handle_slider_change, names='value')\n",
    "display(caption, intSlider)"
   ]
  }
 ],
 "metadata": {
  "kernelspec": {
   "display_name": "Python 3",
   "language": "python",
   "name": "python3"
  },
  "language_info": {
   "codemirror_mode": {
    "name": "ipython",
    "version": 3
   },
   "file_extension": ".py",
   "mimetype": "text/x-python",
   "name": "python",
   "nbconvert_exporter": "python",
   "pygments_lexer": "ipython3",
   "version": "3.7.4"
  }
 },
 "nbformat": 4,
 "nbformat_minor": 4
}
